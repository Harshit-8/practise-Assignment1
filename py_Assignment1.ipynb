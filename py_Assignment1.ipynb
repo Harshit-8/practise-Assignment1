{
  "nbformat": 4,
  "nbformat_minor": 0,
  "metadata": {
    "colab": {
      "name": "py-Assignment1.ipynb",
      "provenance": [],
      "collapsed_sections": []
    },
    "kernelspec": {
      "name": "python3",
      "display_name": "Python 3"
    },
    "language_info": {
      "name": "python"
    }
  },
  "cells": [
    {
      "cell_type": "code",
      "metadata": {
        "colab": {
          "base_uri": "https://localhost:8080/"
        },
        "id": "dwrHZTXYgW14",
        "outputId": "1d66653c-f3b9-4cff-eeb4-53d1f37f8d49"
      },
      "source": [
        "def maxnum(a,b):\n",
        "  if(a<b):\n",
        "    print(f\"{b} is max\")\n",
        "  else:\n",
        "    print(f'{a} is max')\n",
        "\n",
        "\n",
        "maxnum(8,56)\n",
        "\n"
      ],
      "execution_count": null,
      "outputs": [
        {
          "output_type": "stream",
          "name": "stdout",
          "text": [
            "56 is max\n"
          ]
        }
      ]
    },
    {
      "cell_type": "code",
      "metadata": {
        "colab": {
          "base_uri": "https://localhost:8080/"
        },
        "id": "LEC0FPsYhWrl",
        "outputId": "94d96289-bece-4386-ed10-14ab81b764eb"
      },
      "source": [
        "\n",
        "def numberGame(a):\n",
        "  print(f'The number is {a}')\n",
        "\n",
        "\n",
        "numberGame(45)  \n"
      ],
      "execution_count": null,
      "outputs": [
        {
          "output_type": "stream",
          "name": "stdout",
          "text": [
            "The number is 45\n"
          ]
        }
      ]
    },
    {
      "cell_type": "code",
      "metadata": {
        "colab": {
          "base_uri": "https://localhost:8080/",
          "height": 35
        },
        "id": "m9spBDQKh0Th",
        "outputId": "fdc93c25-5d35-47e3-e7be-1aba3592da9f"
      },
      "source": [
        "def divisible(a):\n",
        "  if (a%3==0):\n",
        "    return('Number')\n",
        "  else:\n",
        "    print(\"Sorry! not divisible\")\n",
        "divisible(45)      "
      ],
      "execution_count": null,
      "outputs": [
        {
          "output_type": "execute_result",
          "data": {
            "application/vnd.google.colaboratory.intrinsic+json": {
              "type": "string"
            },
            "text/plain": [
              "'Number'"
            ]
          },
          "metadata": {},
          "execution_count": 10
        }
      ]
    },
    {
      "cell_type": "code",
      "metadata": {
        "colab": {
          "base_uri": "https://localhost:8080/",
          "height": 35
        },
        "id": "69f9T3wpji4b",
        "outputId": "c941efab-98b6-49f9-cd2d-4f810f4839ef"
      },
      "source": [
        "def divisible(a):\n",
        "  if (a%5==0):\n",
        "    return(\"Game\")\n",
        "\n",
        "divisible(85)  "
      ],
      "execution_count": null,
      "outputs": [
        {
          "output_type": "execute_result",
          "data": {
            "application/vnd.google.colaboratory.intrinsic+json": {
              "type": "string"
            },
            "text/plain": [
              "'Game'"
            ]
          },
          "metadata": {},
          "execution_count": 9
        }
      ]
    },
    {
      "cell_type": "code",
      "metadata": {
        "colab": {
          "base_uri": "https://localhost:8080/",
          "height": 35
        },
        "id": "1wu7G09Rj6BR",
        "outputId": "d6af055f-2d0f-4bd5-cbf9-a84b238870d4"
      },
      "source": [
        "def divisible(a):\n",
        "  if (a%5==0 and a%3==0):\n",
        "    return(\"Number Game\")\n",
        "  else:\n",
        "    return(\"Same Number\")\n",
        "\n",
        "\n",
        "divisible(105)\n"
      ],
      "execution_count": null,
      "outputs": [
        {
          "output_type": "execute_result",
          "data": {
            "application/vnd.google.colaboratory.intrinsic+json": {
              "type": "string"
            },
            "text/plain": [
              "'Number Game'"
            ]
          },
          "metadata": {},
          "execution_count": 14
        }
      ]
    },
    {
      "cell_type": "code",
      "metadata": {
        "colab": {
          "base_uri": "https://localhost:8080/"
        },
        "id": "_fIzdbnXkw17",
        "outputId": "b501ddf7-269f-423f-a131-e9c04fa71f00"
      },
      "source": [
        "\n",
        "def check(speed):\n",
        "  if (speed<70):\n",
        "    print(\"OK\")\n",
        "  else:\n",
        "    point=((speed-70)//5)\n",
        "    print(f\"Overspeed points: {point}\")\n",
        "    if (point>12):\n",
        "      print(\"Your liscence is suspended\")\n",
        "    \n",
        "check(45)\n",
        "check(106)  \n",
        "check(206)  "
      ],
      "execution_count": null,
      "outputs": [
        {
          "output_type": "stream",
          "name": "stdout",
          "text": [
            "OK\n",
            "Overspeed points: 7\n",
            "Overspeed points: 27\n",
            "Your liscence is suspended\n"
          ]
        }
      ]
    },
    {
      "cell_type": "code",
      "metadata": {
        "id": "I8qbllSul_D8",
        "colab": {
          "base_uri": "https://localhost:8080/"
        },
        "outputId": "d8df8b2c-a027-4c3f-dcfe-27d49c2c3020"
      },
      "source": [
        "def showNumbers(limit):\n",
        "  for i in range(0,limit+1):\n",
        "    if (i%2==0):\n",
        "      print(f\"{i} EVEN\")\n",
        "    else:\n",
        "      print(f\"{i} ODD\")   \n",
        "\n",
        "showNumbers(6)"
      ],
      "execution_count": 2,
      "outputs": [
        {
          "output_type": "stream",
          "name": "stdout",
          "text": [
            "0 EVEN\n",
            "1 ODD\n",
            "2 EVEN\n",
            "3 ODD\n",
            "4 EVEN\n",
            "5 ODD\n",
            "6 EVEN\n"
          ]
        }
      ]
    },
    {
      "cell_type": "code",
      "metadata": {
        "colab": {
          "base_uri": "https://localhost:8080/"
        },
        "id": "cQGNVRzPyRXB",
        "outputId": "849384dd-71b5-468d-f755-bce0873c8ba7"
      },
      "source": [
        "def showSigns(rows):\n",
        "  for i in range(1,rows+1):\n",
        "    print(\"&\"*(i))\n",
        "\n",
        "showSigns(5)    "
      ],
      "execution_count": 3,
      "outputs": [
        {
          "output_type": "stream",
          "name": "stdout",
          "text": [
            "&\n",
            "&&\n",
            "&&&\n",
            "&&&&\n",
            "&&&&&\n"
          ]
        }
      ]
    },
    {
      "cell_type": "code",
      "metadata": {
        "colab": {
          "base_uri": "https://localhost:8080/"
        },
        "id": "z8SrjbtRzpQX",
        "outputId": "3cee3339-e10f-4693-e051-838222e48d64"
      },
      "source": [
        "def prime(max):\n",
        "  for num in range(2, max+1):\n",
        "   if num > 1:\n",
        "       for i in range(2, num):\n",
        "           if (num % i) == 0:\n",
        "               break\n",
        "       else:\n",
        "           print(num) \n",
        "      \n",
        "\n",
        "prime(12)\n",
        "\n",
        "          \n",
        "    "
      ],
      "execution_count": 8,
      "outputs": [
        {
          "output_type": "stream",
          "name": "stdout",
          "text": [
            "2\n",
            "3\n",
            "5\n",
            "7\n",
            "11\n"
          ]
        }
      ]
    },
    {
      "cell_type": "code",
      "metadata": {
        "id": "WXRG0k4w1BS1"
      },
      "source": [
        ""
      ],
      "execution_count": null,
      "outputs": []
    }
  ]
}